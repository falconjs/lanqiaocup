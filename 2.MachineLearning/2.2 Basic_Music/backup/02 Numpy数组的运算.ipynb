{
 "cells": [
  {
   "cell_type": "markdown",
   "id": "7c8826cc",
   "metadata": {},
   "source": [
    "# Numpy数组的运算"
   ]
  },
  {
   "cell_type": "markdown",
   "id": "e2281bff",
   "metadata": {},
   "source": [
    "## 1. 加法运算"
   ]
  },
  {
   "cell_type": "code",
   "execution_count": 3,
   "id": "81116204",
   "metadata": {},
   "outputs": [
    {
     "name": "stdout",
     "output_type": "stream",
     "text": [
      "[[2 3 4]\n",
      " [5 6 7]]\n",
      "[[-1  0  1]\n",
      " [ 2  3  4]]\n",
      "[[ 3  6  9]\n",
      " [12 15 18]]\n",
      "[[0.5 1.  1.5]\n",
      " [2.  2.5 3. ]]\n"
     ]
    }
   ],
   "source": [
    "import numpy as np\n",
    "a = np.array([[1,2,3],[4,5,6]])\n",
    "print(a + 1)\n",
    "print(a - 2)\n",
    "print(a * 3)\n",
    "print(a / 2)"
   ]
  },
  {
   "cell_type": "code",
   "execution_count": null,
   "id": "f619e4ff",
   "metadata": {},
   "outputs": [],
   "source": []
  }
 ],
 "metadata": {
  "kernelspec": {
   "display_name": "Python 3 (ipykernel)",
   "language": "python",
   "name": "python3"
  },
  "language_info": {
   "codemirror_mode": {
    "name": "ipython",
    "version": 3
   },
   "file_extension": ".py",
   "mimetype": "text/x-python",
   "name": "python",
   "nbconvert_exporter": "python",
   "pygments_lexer": "ipython3",
   "version": "3.9.12"
  }
 },
 "nbformat": 4,
 "nbformat_minor": 5
}
