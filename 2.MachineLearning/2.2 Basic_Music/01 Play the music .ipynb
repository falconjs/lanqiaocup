{
 "cells": [
  {
   "cell_type": "markdown",
   "id": "ed56f281",
   "metadata": {},
   "source": [
    "### Import Package"
   ]
  },
  {
   "cell_type": "code",
   "execution_count": 1,
   "id": "77a62a5a",
   "metadata": {},
   "outputs": [],
   "source": [
    "import mingus.core.notes as notes\n",
    "import mingus.core.progressions as progressions\n",
    "from mingus.core import chords\n",
    "from mingus.containers import NoteContainer, Note\n",
    "from mingus.midi import fluidsynth"
   ]
  },
  {
   "cell_type": "markdown",
   "id": "aa62357f",
   "metadata": {},
   "source": [
    "### Load the Soundfont"
   ]
  },
  {
   "cell_type": "code",
   "execution_count": 2,
   "id": "ddc0ee87",
   "metadata": {},
   "outputs": [
    {
     "name": "stderr",
     "output_type": "stream",
     "text": [
      "fluidsynth: warning: No preset found on channel 9 [bank=128 prog=0]\n"
     ]
    },
    {
     "data": {
      "text/plain": [
       "True"
      ]
     },
     "execution_count": 2,
     "metadata": {},
     "output_type": "execute_result"
    }
   ],
   "source": [
    "fluidsynth.init(\"U20PIANO.SF2\")"
   ]
  },
  {
   "cell_type": "markdown",
   "id": "6ed4441f",
   "metadata": {},
   "source": [
    "### Prepare the \"数字简谱\" and \"字母简谱\" mapping dictionary"
   ]
  },
  {
   "cell_type": "code",
   "execution_count": 49,
   "id": "d0f27c4a",
   "metadata": {},
   "outputs": [
    {
     "name": "stdout",
     "output_type": "stream",
     "text": [
      "D-4\n",
      "1\n"
     ]
    }
   ],
   "source": [
    "import pandas as pd\n",
    "\n",
    "pd.read_csv('int_note.csv', header=0, index_col=0)\n",
    "map_int_to_note = pd.read_csv('int_note.csv', header=0, index_col=0).to_dict()['note']\n",
    "print(map_int_to_note[1])\n",
    "map_note_to_int = pd.read_csv('int_note.csv', header=0, index_col=1).to_dict()['int']\n",
    "print(map_note_to_int['D-4'])"
   ]
  },
  {
   "cell_type": "code",
   "execution_count": 52,
   "id": "2d4c36b3",
   "metadata": {},
   "outputs": [],
   "source": [
    "import time\n",
    "\n",
    "rhythm = 2/4\n",
    "\n",
    "music = [('A-3',1), ('E-4',1), ('E-4',1), ('E-4',1), ('E-4',0.5), ('D-4',0.5), ('C-4',1), ('D-4',2),\n",
    "        ('D-4',1.5), ('E-4',0.5), ('D-4',1), ('C-4',1), ('D-4',0.5), ('C-4',0.5), ('A-3',0.5), ('G-3',0.5), ('A-3',2),\n",
    "        ('E-3',1), ('E-3', 0.5), ('G-3',.5), ('G-3',1), ('G-3',1), ('A-3',1), ('A-3',.5), ('D-4',.5), ('C-4', 2),\n",
    "        ('A-3',1), ('A-3', 0.5), ('C-4',.5), ('D-4',.5), ('E-4',.5), ('C-4',.5), ('D-4',.5), ('E-4',2), ('E-4',2)]\n",
    "\n",
    "for i, r in music:\n",
    "    n = Note(i)\n",
    "    n.channel = 1\n",
    "    n.velocity = 100\n",
    "    fluidsynth.play_Note(n)\n",
    "    time.sleep(r*rhythm)"
   ]
  },
  {
   "cell_type": "code",
   "execution_count": 51,
   "id": "0ea036ed",
   "metadata": {},
   "outputs": [
    {
     "name": "stdout",
     "output_type": "stream",
     "text": [
      "[(-2, 1), (2, 1), (2, 1), (2, 1), (2, 0.5), (1, 0.5), (0, 1), (1, 2), (1, 1.5), (2, 0.5), (1, 1), (0, 1), (1, 0.5), (0, 0.5), (-2, 0.5), (-3, 0.5), (-2, 2), (-5, 1), (-5, 0.5), (-3, 0.5), (-3, 1), (-3, 1), (-2, 1), (-2, 0.5), (1, 0.5), (0, 2), (-2, 1), (-2, 0.5), (0, 0.5), (1, 0.5), (2, 0.5), (0, 0.5), (1, 0.5), (2, 2), (2, 2)]\n"
     ]
    }
   ],
   "source": [
    "int_music = [ (map_note_to_int[x], r) for x, r in music ]\n",
    "print(int_music)"
   ]
  },
  {
   "cell_type": "code",
   "execution_count": 21,
   "id": "30267cfc",
   "metadata": {},
   "outputs": [
    {
     "data": {
      "text/plain": [
       "0.913"
      ]
     },
     "execution_count": 21,
     "metadata": {},
     "output_type": "execute_result"
    }
   ],
   "source": [
    "from sklearn.datasets import make_hastie_10_2\n",
    "from sklearn.ensemble import GradientBoostingClassifier\n",
    "\n",
    "X, y = make_hastie_10_2(random_state=0)\n",
    "X_train, X_test = X[:2000], X[2000:]\n",
    "y_train, y_test = y[:2000], y[2000:]\n",
    "\n",
    "clf = GradientBoostingClassifier(n_estimators=100, learning_rate=1.0, max_depth=1, random_state=0).fit(X_train, y_train)\n",
    "\n",
    "clf.score(X_test, y_test)"
   ]
  },
  {
   "cell_type": "code",
   "execution_count": 33,
   "id": "c03b9309",
   "metadata": {},
   "outputs": [
    {
     "data": {
      "text/plain": [
       "array([[ 1.76405235,  0.40015721,  0.97873798,  2.2408932 ,  1.86755799,\n",
       "        -0.97727788,  0.95008842, -0.15135721, -0.10321885,  0.4105985 ],\n",
       "       [ 0.14404357,  1.45427351,  0.76103773,  0.12167502,  0.44386323,\n",
       "         0.33367433,  1.49407907, -0.20515826,  0.3130677 , -0.85409574]])"
      ]
     },
     "execution_count": 33,
     "metadata": {},
     "output_type": "execute_result"
    }
   ],
   "source": [
    "X[0:2]"
   ]
  },
  {
   "cell_type": "code",
   "execution_count": 34,
   "id": "83086a90",
   "metadata": {},
   "outputs": [
    {
     "data": {
      "text/plain": [
       "array([ 1., -1.,  1., ..., -1., -1.,  1.])"
      ]
     },
     "execution_count": 34,
     "metadata": {},
     "output_type": "execute_result"
    }
   ],
   "source": [
    "y"
   ]
  },
  {
   "cell_type": "code",
   "execution_count": 43,
   "id": "f8f0fda2",
   "metadata": {},
   "outputs": [
    {
     "data": {
      "text/plain": [
       "array(['A-3', 'E-4', 'E-4'], dtype='<U32')"
      ]
     },
     "execution_count": 43,
     "metadata": {},
     "output_type": "execute_result"
    }
   ],
   "source": [
    "import numpy as np\n",
    "\n",
    "np.array(music)[0:3, 0]"
   ]
  },
  {
   "cell_type": "code",
   "execution_count": null,
   "id": "a60d7701",
   "metadata": {},
   "outputs": [],
   "source": []
  }
 ],
 "metadata": {
  "kernelspec": {
   "display_name": "Python 3 (ipykernel)",
   "language": "python",
   "name": "python3"
  },
  "language_info": {
   "codemirror_mode": {
    "name": "ipython",
    "version": 3
   },
   "file_extension": ".py",
   "mimetype": "text/x-python",
   "name": "python",
   "nbconvert_exporter": "python",
   "pygments_lexer": "ipython3",
   "version": "3.9.12"
  }
 },
 "nbformat": 4,
 "nbformat_minor": 5
}
