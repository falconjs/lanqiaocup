{
 "cells": [
  {
   "cell_type": "markdown",
   "id": "19b4702e",
   "metadata": {},
   "source": [
    "# 编曲机器人\n",
    "\n",
    "## 问题描述 \n",
    "\n",
    "在学习生活中我们都会用到曲子，但大家用的曲子不免会重合，造成尴尬的场面。而且有时还会遇到版权问题——曲子需要付费才能使用。在网上茫茫曲海中找到一首适合自己的曲子无疑是大海捞针。那怎样才能找到一首免费的风格相近的，且独一无二的曲子呢？为此我研发了“编曲机器人”，来解决这一系列问题。"
   ]
  },
  {
   "cell_type": "markdown",
   "id": "194400e6",
   "metadata": {},
   "source": [
    "## 方案描述\n",
    "\n",
    "1. 针对原曲进行数字化处理，得到曲子的数字队列\n",
    "1. 数据预处理。准备X输入变量和y变量\n",
    "1. 把X变量和y变量交给模型进行训练\n",
    "1. 准备新曲子的初始曲调，对其进行数字化处理。得到数字队列\n",
    "1. 把数字队列输入训练好的模型，得到模型的输出，作为下一个音符\n",
    "1. 重复以上步骤，得到所有音符的预测结果形成的数字队列即为机器人创造的新曲子"
   ]
  },
  {
   "cell_type": "markdown",
   "id": "1eb2b8d2",
   "metadata": {},
   "source": [
    "## 实现过程\n",
    "\n",
    "### 第一步：导入相关程序包，准备环境\n",
    "* 本程序使用mingus包+fluidsynth，进行曲谱弹奏\n",
    "* fluidsynth使用的soundfont: U20PIANO.SF2\n",
    "* 以下程序需在windows环境下才可运行\n",
    "\n",
    "### 安装指导\n",
    "\n",
    "To Be updated\n"
   ]
  },
  {
   "cell_type": "markdown",
   "id": "ed56f281",
   "metadata": {},
   "source": [
    "### Import Package"
   ]
  },
  {
   "cell_type": "code",
   "execution_count": 1,
   "id": "2a9be680",
   "metadata": {},
   "outputs": [],
   "source": [
    "# Windows version\n",
    "import os\n",
    "basepath = os.getcwd()\n",
    "dllspath = os.path.join(basepath, 'fluidsynth', 'bin')\n",
    "os.environ['PATH'] = dllspath + ';' + os.environ['PATH']\n"
   ]
  },
  {
   "cell_type": "code",
   "execution_count": 2,
   "id": "77a62a5a",
   "metadata": {},
   "outputs": [],
   "source": [
    "import mingus.core.notes as notes\n",
    "import mingus.core.progressions as progressions\n",
    "from mingus.core import chords\n",
    "from mingus.containers import NoteContainer, Note\n",
    "from mingus.midi import fluidsynth"
   ]
  },
  {
   "cell_type": "code",
   "execution_count": null,
   "id": "7c1384d1",
   "metadata": {},
   "outputs": [],
   "source": [
    "import pandas as pd"
   ]
  },
  {
   "cell_type": "markdown",
   "id": "aa62357f",
   "metadata": {},
   "source": [
    "### Load the Soundfont"
   ]
  },
  {
   "cell_type": "code",
   "execution_count": 3,
   "id": "ddc0ee87",
   "metadata": {
    "scrolled": false
   },
   "outputs": [
    {
     "name": "stderr",
     "output_type": "stream",
     "text": [
      "fluidsynth: warning: No preset found on channel 9 [bank=128 prog=0]\n"
     ]
    },
    {
     "data": {
      "text/plain": [
       "True"
      ]
     },
     "execution_count": 3,
     "metadata": {},
     "output_type": "execute_result"
    }
   ],
   "source": [
    "fluidsynth.init(\"U20PIANO.SF2\")"
   ]
  },
  {
   "cell_type": "markdown",
   "id": "6ed4441f",
   "metadata": {},
   "source": [
    "### 第二步：静态变量及参数准备\n",
    "\n",
    "静态变量：\n",
    "* map_int_to_note ：把数字转换成音符\n",
    "* map_note_to_int ：把音符转换成数字"
   ]
  },
  {
   "cell_type": "code",
   "execution_count": 4,
   "id": "d0f27c4a",
   "metadata": {},
   "outputs": [
    {
     "name": "stdout",
     "output_type": "stream",
     "text": [
      "D-4\n",
      "1\n"
     ]
    }
   ],
   "source": [
    "map_int_to_note = pd.read_csv('int_note.csv', header=0, index_col=0).to_dict()['note']\n",
    "\n",
    "map_note_to_int = pd.read_csv('int_note.csv', header=0, index_col=1).to_dict()['int']\n"
   ]
  },
  {
   "cell_type": "code",
   "execution_count": null,
   "id": "db162443",
   "metadata": {},
   "outputs": [],
   "source": [
    "# print(map_int_to_note[1])\n",
    "# print(map_note_to_int['D-4'])"
   ]
  },
  {
   "cell_type": "code",
   "execution_count": 5,
   "id": "2d4c36b3",
   "metadata": {},
   "outputs": [],
   "source": [
    "import time\n",
    "\n",
    "rhythm = 2/4\n",
    "\n",
    "music = [('A-3',1), ('E-4',1), ('E-4',1), ('E-4',1), ('E-4',0.5), ('D-4',0.5), ('C-4',1), ('D-4',2),\n",
    "        ('D-4',1.5), ('E-4',0.5), ('D-4',1), ('C-4',1), ('D-4',0.5), ('C-4',0.5), ('A-3',0.5), ('G-3',0.5), ('A-3',2),\n",
    "        ('E-3',1), ('E-3', 0.5), ('G-3',.5), ('G-3',1), ('G-3',1), ('A-3',1), ('A-3',.5), ('D-4',.5), ('C-4', 2),\n",
    "        ('A-3',1), ('A-3', 0.5), ('C-4',.5), ('D-4',.5), ('E-4',.5), ('C-4',.5), ('D-4',.5), ('E-4',2), ('E-4',2)]\n",
    "\n",
    "for i, r in music:\n",
    "    n = Note(i)\n",
    "    n.channel = 1\n",
    "    n.velocity = 100\n",
    "    fluidsynth.play_Note(n)\n",
    "    time.sleep(r*rhythm)"
   ]
  },
  {
   "cell_type": "code",
   "execution_count": 6,
   "id": "0ea036ed",
   "metadata": {},
   "outputs": [
    {
     "name": "stdout",
     "output_type": "stream",
     "text": [
      "[(-2, 1), (2, 1), (2, 1), (2, 1), (2, 0.5), (1, 0.5), (0, 1), (1, 2), (1, 1.5), (2, 0.5), (1, 1), (0, 1), (1, 0.5), (0, 0.5), (-2, 0.5), (-3, 0.5), (-2, 2), (-5, 1), (-5, 0.5), (-3, 0.5), (-3, 1), (-3, 1), (-2, 1), (-2, 0.5), (1, 0.5), (0, 2), (-2, 1), (-2, 0.5), (0, 0.5), (1, 0.5), (2, 0.5), (0, 0.5), (1, 0.5), (2, 2), (2, 2)]\n"
     ]
    }
   ],
   "source": [
    "int_music = [ (map_note_to_int[x], r) for idx, (x, r) in enumerate(music) ]\n",
    "print(int_music)"
   ]
  },
  {
   "cell_type": "code",
   "execution_count": 7,
   "id": "5661fabf",
   "metadata": {},
   "outputs": [
    {
     "name": "stdout",
     "output_type": "stream",
     "text": [
      "('a', 'd', 'g')\n",
      "('b', 'e', 'h')\n",
      "('c', 'f', 'i')\n",
      "('x', 'y', 'z')\n"
     ]
    }
   ],
   "source": [
    "# Loop the several list together until any one list don't have any more\n",
    "first = [\"a\", \"b\", \"c\", \"x\"]\n",
    "second = [\"d\", \"e\", \"f\", \"y\"]\n",
    "third = [\"g\", \"h\", \"i\", \"z\"]\n",
    "for one, two, three in zip(first, second, third):\n",
    "    print((one, two, three))"
   ]
  },
  {
   "cell_type": "code",
   "execution_count": 8,
   "id": "4cf4cdce",
   "metadata": {},
   "outputs": [
    {
     "data": {
      "text/plain": [
       "35"
      ]
     },
     "execution_count": 8,
     "metadata": {},
     "output_type": "execute_result"
    }
   ],
   "source": [
    "len(int_music)"
   ]
  },
  {
   "cell_type": "code",
   "execution_count": 9,
   "id": "f243a574",
   "metadata": {},
   "outputs": [],
   "source": [
    "import numpy as np\n",
    "arr_music = np.array(int_music)"
   ]
  },
  {
   "cell_type": "code",
   "execution_count": 10,
   "id": "14191b4d",
   "metadata": {},
   "outputs": [
    {
     "data": {
      "text/plain": [
       "array([-2.,  2.,  2.,  2.,  2.,  1.,  0.,  1.,  1.,  2.,  1.,  0.,  1.,\n",
       "        0., -2., -3., -2., -5., -5., -3., -3., -3., -2., -2.,  1.,  0.,\n",
       "       -2., -2.,  0.,  1.,  2.,  0.,  1.,  2.,  2.])"
      ]
     },
     "execution_count": 10,
     "metadata": {},
     "output_type": "execute_result"
    }
   ],
   "source": [
    "arr_music[:, 0]"
   ]
  },
  {
   "cell_type": "code",
   "execution_count": 11,
   "id": "cbf0b72a",
   "metadata": {},
   "outputs": [
    {
     "data": {
      "text/plain": [
       "(35, 2)"
      ]
     },
     "execution_count": 11,
     "metadata": {},
     "output_type": "execute_result"
    }
   ],
   "source": [
    "arr_music.shape"
   ]
  },
  {
   "cell_type": "markdown",
   "id": "53cdeb8d",
   "metadata": {},
   "source": [
    "### The item will be set as object, if the lenth of item is different"
   ]
  },
  {
   "cell_type": "code",
   "execution_count": 12,
   "id": "16cad05d",
   "metadata": {},
   "outputs": [],
   "source": [
    "dataset = np.array([ arr_music[:, 0][i:i+5] for i in range(arr_music.shape[0]-4) ])"
   ]
  },
  {
   "cell_type": "code",
   "execution_count": 13,
   "id": "5f4e6e31",
   "metadata": {},
   "outputs": [
    {
     "name": "stdout",
     "output_type": "stream",
     "text": [
      "(31, 4)\n",
      "(31,)\n"
     ]
    }
   ],
   "source": [
    "from sklearn.ensemble import GradientBoostingClassifier\n",
    "\n",
    "X_train, y_train = dataset[:, 0:4], dataset[:, 4]\n",
    "\n",
    "print(X_train.shape)\n",
    "print(y_train.shape)"
   ]
  },
  {
   "cell_type": "code",
   "execution_count": 14,
   "id": "6cd9c58c",
   "metadata": {},
   "outputs": [
    {
     "data": {
      "text/plain": [
       "0.967741935483871"
      ]
     },
     "execution_count": 14,
     "metadata": {},
     "output_type": "execute_result"
    }
   ],
   "source": [
    "composer = GradientBoostingClassifier(n_estimators=100, learning_rate=1.0, max_depth=1, random_state=0).fit(X_train, y_train)\n",
    "\n",
    "composer.score(X_train, y_train)"
   ]
  },
  {
   "cell_type": "code",
   "execution_count": 15,
   "id": "58cd45e9",
   "metadata": {},
   "outputs": [
    {
     "data": {
      "text/plain": [
       "[('A-3', 1),\n",
       " ('E-4', 1),\n",
       " ('E-4', 1),\n",
       " ('E-4', 1),\n",
       " ('E-4', 0.5),\n",
       " ('D-4', 0.5),\n",
       " ('C-4', 1),\n",
       " ('D-4', 2),\n",
       " ('C-4', 1.5),\n",
       " ('A-3', 0.5),\n",
       " ('G-3', 1),\n",
       " ('A-3', 1),\n",
       " ('E-3', 0.5),\n",
       " ('E-3', 0.5),\n",
       " ('G-3', 0.5),\n",
       " ('G-3', 0.5),\n",
       " ('G-3', 2),\n",
       " ('A-3', 1),\n",
       " ('A-3', 0.5),\n",
       " ('D-4', 0.5),\n",
       " ('C-4', 1),\n",
       " ('A-3', 1),\n",
       " ('A-3', 1),\n",
       " ('C-4', 0.5),\n",
       " ('D-4', 0.5),\n",
       " ('E-4', 2),\n",
       " ('C-4', 1),\n",
       " ('D-4', 0.5),\n",
       " ('E-4', 0.5),\n",
       " ('E-4', 0.5),\n",
       " ('D-4', 0.5),\n",
       " ('E-4', 0.5),\n",
       " ('D-4', 0.5),\n",
       " ('C-4', 2),\n",
       " ('D-4', 2)]"
      ]
     },
     "execution_count": 15,
     "metadata": {},
     "output_type": "execute_result"
    }
   ],
   "source": [
    "init_music_notes = ['A-3', 'E-4', 'E-4', 'E-4']\n",
    "\n",
    "new_music_int = [ map_note_to_int[x] for x in init_music_notes ]\n",
    "for idx in range(35-4):\n",
    "    new_music_int.append(int(composer.predict([new_music_int[-4:]])))\n",
    "    \n",
    "new_music_notes = [ (map_int_to_note[x], r ) for x, (_, r) in zip(new_music_int, int_music) ]\n",
    "new_music_notes"
   ]
  },
  {
   "cell_type": "code",
   "execution_count": 16,
   "id": "e2d40333",
   "metadata": {},
   "outputs": [],
   "source": [
    "import time\n",
    "\n",
    "rhythm = 2/4\n",
    "\n",
    "# music = [('A-3',1), ('E-4',1), ('E-4',1), ('E-4',1), ('E-4',0.5), ('D-4',0.5), ('C-4',1), ('D-4',2),\n",
    "#         ('D-4',1.5), ('E-4',0.5), ('D-4',1), ('C-4',1), ('D-4',0.5), ('C-4',0.5), ('A-3',0.5), ('G-3',0.5), ('A-3',2),\n",
    "#         ('E-3',1), ('E-3', 0.5), ('G-3',.5), ('G-3',1), ('G-3',1), ('A-3',1), ('A-3',.5), ('D-4',.5), ('C-4', 2),\n",
    "#         ('A-3',1), ('A-3', 0.5), ('C-4',.5), ('D-4',.5), ('E-4',.5), ('C-4',.5), ('D-4',.5), ('E-4',2), ('E-4',2)]\n",
    "\n",
    "for i, r in new_music_notes:\n",
    "    n = Note(i)\n",
    "    n.channel = 1\n",
    "    n.velocity = 100\n",
    "    fluidsynth.play_Note(n)\n",
    "    time.sleep(r*rhythm)"
   ]
  }
 ],
 "metadata": {
  "kernelspec": {
   "display_name": "Python 3 (ipykernel)",
   "language": "python",
   "name": "python3"
  },
  "language_info": {
   "codemirror_mode": {
    "name": "ipython",
    "version": 3
   },
   "file_extension": ".py",
   "mimetype": "text/x-python",
   "name": "python",
   "nbconvert_exporter": "python",
   "pygments_lexer": "ipython3",
   "version": "3.9.12"
  }
 },
 "nbformat": 4,
 "nbformat_minor": 5
}
