{
 "cells": [
  {
   "cell_type": "markdown",
   "id": "19b4702e",
   "metadata": {},
   "source": [
    "# 编曲机器人\n",
    "\n",
    "团队：EvaBot\n",
    "\n",
    "## 问题描述 \n",
    "\n",
    "在学习生活中我们都会用到曲子，但大家用的曲子不免会重合，造成尴尬的场面。而且有时还会遇到版权问题——曲子需要付费才能使用。在网上茫茫曲海中找到一首适合自己的曲子无疑是大海捞针。那怎样才能找到一首免费的风格相近的，且独一无二的曲子呢？为此我研发了“编曲机器人”，来解决这一系列问题。"
   ]
  },
  {
   "cell_type": "markdown",
   "id": "194400e6",
   "metadata": {},
   "source": [
    "## 方案描述\n",
    "\n",
    "1. 原曲欣赏\n",
    "1. 针对原曲进行数字化处理，得到曲子的数字队列\n",
    "1. 数据预处理。准备X输入变量和y变量\n",
    "    1. 把曲子的数字队列切成5个一组。\n",
    "    1. X输入变量：前四个数字化音符 \n",
    "    1. y变量：第五个数字化音符\n",
    "1. 把X变量和y变量交给模型进行训练，得到训练好的模型\n",
    "    1. 为了确保模型完全学习了原曲的特征，我们定义：模型的准确度必须大于95%\n",
    "1. 准备新曲子的初始曲调，对其进行数字化处理，得到数字队列\n",
    "    1. 初始曲调由原曲前四个音符组成\n",
    "1. 编写新的曲调\n",
    "    1. 把初始曲调的数字队列输入训练好的模型，得到模型的输出，作为下一个音符，把新的音符加在曲调的最后。\n",
    "    1. 再取新曲调的最后四个音符，用来预测下一个音符\n",
    "    1. 重复以上步骤，得到所有音符的预测结果形成的数字队列即为机器人创造的新曲子\n",
    "1. 新曲欣赏\n",
    "    1. 把数字转换成音符，进行播放"
   ]
  },
  {
   "cell_type": "markdown",
   "id": "1eb2b8d2",
   "metadata": {},
   "source": [
    "## 实现过程\n",
    "\n",
    "### 准备工作一：导入相关程序包，准备环境\n",
    "* 本程序使用mingus包+fluidsynth，进行曲谱弹奏\n",
    "* fluidsynth使用的soundfont: U20PIANO.SF2\n",
    "* 以下程序需在windows环境下才可运行\n"
   ]
  },
  {
   "cell_type": "markdown",
   "id": "ed56f281",
   "metadata": {},
   "source": [
    "### Import Package"
   ]
  },
  {
   "cell_type": "code",
   "execution_count": 1,
   "id": "2a9be680",
   "metadata": {
    "scrolled": true
   },
   "outputs": [
    {
     "name": "stdout",
     "output_type": "stream",
     "text": [
      "Add fluidsynth/bin to the path in Windoes OS\n"
     ]
    }
   ],
   "source": [
    "# Windows version\n",
    "import sys\n",
    "import os\n",
    "\n",
    "if sys.platform == 'win32':\n",
    "    print(\"Add fluidsynth/bin to the path in Windoes OS\")\n",
    "    basepath = os.getcwd()\n",
    "    dllspath = os.path.join(basepath, 'fluidsynth', 'bin')\n",
    "    os.environ['PATH'] = dllspath + ';' + os.environ['PATH']\n",
    "else:\n",
    "    print(\"No action is needed\")\n"
   ]
  },
  {
   "cell_type": "code",
   "execution_count": 2,
   "id": "77a62a5a",
   "metadata": {},
   "outputs": [],
   "source": [
    "import mingus.core.notes as notes\n",
    "import mingus.core.progressions as progressions\n",
    "from mingus.core import chords\n",
    "from mingus.containers import NoteContainer, Note\n",
    "from mingus.midi import fluidsynth"
   ]
  },
  {
   "cell_type": "code",
   "execution_count": 3,
   "id": "7c1384d1",
   "metadata": {},
   "outputs": [],
   "source": [
    "import pandas as pd\n",
    "import numpy as np\n",
    "\n",
    "import time"
   ]
  },
  {
   "cell_type": "markdown",
   "id": "aa62357f",
   "metadata": {},
   "source": [
    "### Load the Soundfont"
   ]
  },
  {
   "cell_type": "code",
   "execution_count": 4,
   "id": "ddc0ee87",
   "metadata": {
    "scrolled": false
   },
   "outputs": [
    {
     "data": {
      "text/plain": [
       "True"
      ]
     },
     "execution_count": 4,
     "metadata": {},
     "output_type": "execute_result"
    }
   ],
   "source": [
    "fluidsynth.init(\"U20PIANO.SF2\")"
   ]
  },
  {
   "cell_type": "markdown",
   "id": "6ed4441f",
   "metadata": {},
   "source": [
    "### 准备工作二：静态变量及参数准备\n",
    "\n",
    "准备数字音符转换文件：int_note.csv\n",
    "\n",
    "静态变量：\n",
    "* map_int_to_note ：把数字转换成音符\n",
    "* map_note_to_int ：把音符转换成数字"
   ]
  },
  {
   "cell_type": "code",
   "execution_count": 5,
   "id": "d0f27c4a",
   "metadata": {},
   "outputs": [],
   "source": [
    "map_int_to_note = pd.read_csv('int_note.csv', header=0, index_col=0).to_dict()['note']\n",
    "\n",
    "map_note_to_int = pd.read_csv('int_note.csv', header=0, index_col=1).to_dict()['int']\n"
   ]
  },
  {
   "cell_type": "code",
   "execution_count": 6,
   "id": "db162443",
   "metadata": {},
   "outputs": [
    {
     "name": "stdout",
     "output_type": "stream",
     "text": [
      "D-4\n",
      "1\n"
     ]
    }
   ],
   "source": [
    "# test\n",
    "print(map_int_to_note[1])\n",
    "print(map_note_to_int['D-4'])"
   ]
  },
  {
   "cell_type": "markdown",
   "id": "7d8f1522",
   "metadata": {},
   "source": [
    "## 第一步：原曲欣赏"
   ]
  },
  {
   "cell_type": "code",
   "execution_count": 18,
   "id": "2d4c36b3",
   "metadata": {},
   "outputs": [],
   "source": [
    "#以四分音符为一拍\n",
    "rhythm_per_beat = 1/4\n",
    "\n",
    "music = [('A-3',1), ('E-4',1), ('E-4',1), ('E-4',1), ('E-4',0.5), ('D-4',0.5), ('C-4',1), ('D-4',2),\n",
    "        ('D-4',1.5), ('E-4',0.5), ('D-4',1), ('C-4',1), ('D-4',0.5), ('C-4',0.5), ('A-3',0.5), ('G-3',0.5), ('A-3',2),\n",
    "        ('E-3',1), ('E-3', 0.5), ('G-3',.5), ('G-3',1), ('G-3',1), ('A-3',1), ('A-3',.5), ('D-4',.5), ('C-4', 2),\n",
    "        ('A-3',1), ('A-3', 0.5), ('C-4',.5), ('D-4',.5), ('E-4',.5), ('C-4',.5), ('D-4',.5), ('E-4',2), ('E-4',2)]\n",
    "\n",
    "for i, r in music:\n",
    "    n = Note(i)\n",
    "    n.channel = 1\n",
    "    n.velocity = 100\n",
    "    fluidsynth.play_Note(n)\n",
    "    time.sleep(r*rhythm_per_beat*2)"
   ]
  },
  {
   "cell_type": "markdown",
   "id": "85d918f6",
   "metadata": {},
   "source": [
    "## 第二步：针对原曲进行数字化处理，得到曲子的数字队列"
   ]
  },
  {
   "cell_type": "code",
   "execution_count": 8,
   "id": "0ea036ed",
   "metadata": {},
   "outputs": [
    {
     "name": "stdout",
     "output_type": "stream",
     "text": [
      "[(-2, 1), (2, 1), (2, 1), (2, 1), (2, 0.5), (1, 0.5), (0, 1), (1, 2), (1, 1.5), (2, 0.5), (1, 1), (0, 1), (1, 0.5), (0, 0.5), (-2, 0.5), (-3, 0.5), (-2, 2), (-5, 1), (-5, 0.5), (-3, 0.5), (-3, 1), (-3, 1), (-2, 1), (-2, 0.5), (1, 0.5), (0, 2), (-2, 1), (-2, 0.5), (0, 0.5), (1, 0.5), (2, 0.5), (0, 0.5), (1, 0.5), (2, 2), (2, 2)]\n"
     ]
    }
   ],
   "source": [
    "int_music = [ (map_note_to_int[x], r) for x, r in music ]\n",
    "print(int_music)"
   ]
  },
  {
   "cell_type": "markdown",
   "id": "f7d8c592",
   "metadata": {},
   "source": [
    "## 第三步：数据预处理。准备X输入变量和y变量\n",
    "1. 把音符的数字队列切成5个一组。\n",
    "1. X输入变量：前四个数字化音符\n",
    "1. y变量：第五个数字化音符"
   ]
  },
  {
   "cell_type": "code",
   "execution_count": 9,
   "id": "f243a574",
   "metadata": {},
   "outputs": [
    {
     "name": "stdout",
     "output_type": "stream",
     "text": [
      "[-2.  2.  2.  2.  2.  1.  0.  1.  1.  2.  1.  0.  1.  0. -2. -3. -2. -5.\n",
      " -5. -3. -3. -3. -2. -2.  1.  0. -2. -2.  0.  1.  2.  0.  1.  2.  2.]\n"
     ]
    }
   ],
   "source": [
    "# 取出音符队列\n",
    "arr_music = np.array(int_music)\n",
    "arr_music_int = arr_music[:, 0]\n",
    "print(arr_music_int)"
   ]
  },
  {
   "cell_type": "code",
   "execution_count": 10,
   "id": "0c92c4bb",
   "metadata": {},
   "outputs": [
    {
     "data": {
      "text/plain": [
       "array([[-2.,  2.,  2.,  2.,  2.],\n",
       "       [ 2.,  2.,  2.,  2.,  1.],\n",
       "       [ 2.,  2.,  2.,  1.,  0.],\n",
       "       [ 2.,  2.,  1.,  0.,  1.],\n",
       "       [ 2.,  1.,  0.,  1.,  1.],\n",
       "       [ 1.,  0.,  1.,  1.,  2.],\n",
       "       [ 0.,  1.,  1.,  2.,  1.],\n",
       "       [ 1.,  1.,  2.,  1.,  0.],\n",
       "       [ 1.,  2.,  1.,  0.,  1.],\n",
       "       [ 2.,  1.,  0.,  1.,  0.],\n",
       "       [ 1.,  0.,  1.,  0., -2.],\n",
       "       [ 0.,  1.,  0., -2., -3.],\n",
       "       [ 1.,  0., -2., -3., -2.],\n",
       "       [ 0., -2., -3., -2., -5.],\n",
       "       [-2., -3., -2., -5., -5.],\n",
       "       [-3., -2., -5., -5., -3.],\n",
       "       [-2., -5., -5., -3., -3.],\n",
       "       [-5., -5., -3., -3., -3.],\n",
       "       [-5., -3., -3., -3., -2.],\n",
       "       [-3., -3., -3., -2., -2.],\n",
       "       [-3., -3., -2., -2.,  1.],\n",
       "       [-3., -2., -2.,  1.,  0.],\n",
       "       [-2., -2.,  1.,  0., -2.],\n",
       "       [-2.,  1.,  0., -2., -2.],\n",
       "       [ 1.,  0., -2., -2.,  0.],\n",
       "       [ 0., -2., -2.,  0.,  1.],\n",
       "       [-2., -2.,  0.,  1.,  2.],\n",
       "       [-2.,  0.,  1.,  2.,  0.],\n",
       "       [ 0.,  1.,  2.,  0.,  1.],\n",
       "       [ 1.,  2.,  0.,  1.,  2.],\n",
       "       [ 2.,  0.,  1.,  2.,  2.]])"
      ]
     },
     "execution_count": 10,
     "metadata": {},
     "output_type": "execute_result"
    }
   ],
   "source": [
    "# Vairable \n",
    "int_music_len = arr_music.shape[0]\n",
    "interval_len = 4\n",
    "\n",
    "# 分割 5 个一组的训练集\n",
    "dataset_list = []\n",
    "for i in range(int_music_len-interval_len):\n",
    "    item = arr_music_int[i:i+5]\n",
    "    dataset_list.append(item)\n",
    "\n",
    "dataset = np.array(dataset_list)\n",
    "dataset"
   ]
  },
  {
   "cell_type": "code",
   "execution_count": 11,
   "id": "b6aa439d",
   "metadata": {},
   "outputs": [
    {
     "name": "stdout",
     "output_type": "stream",
     "text": [
      "[[-2.  2.  2.  2.]\n",
      " [ 2.  2.  2.  2.]\n",
      " [ 2.  2.  2.  1.]\n",
      " [ 2.  2.  1.  0.]\n",
      " [ 2.  1.  0.  1.]\n",
      " [ 1.  0.  1.  1.]\n",
      " [ 0.  1.  1.  2.]\n",
      " [ 1.  1.  2.  1.]\n",
      " [ 1.  2.  1.  0.]\n",
      " [ 2.  1.  0.  1.]\n",
      " [ 1.  0.  1.  0.]\n",
      " [ 0.  1.  0. -2.]\n",
      " [ 1.  0. -2. -3.]\n",
      " [ 0. -2. -3. -2.]\n",
      " [-2. -3. -2. -5.]\n",
      " [-3. -2. -5. -5.]\n",
      " [-2. -5. -5. -3.]\n",
      " [-5. -5. -3. -3.]\n",
      " [-5. -3. -3. -3.]\n",
      " [-3. -3. -3. -2.]\n",
      " [-3. -3. -2. -2.]\n",
      " [-3. -2. -2.  1.]\n",
      " [-2. -2.  1.  0.]\n",
      " [-2.  1.  0. -2.]\n",
      " [ 1.  0. -2. -2.]\n",
      " [ 0. -2. -2.  0.]\n",
      " [-2. -2.  0.  1.]\n",
      " [-2.  0.  1.  2.]\n",
      " [ 0.  1.  2.  0.]\n",
      " [ 1.  2.  0.  1.]\n",
      " [ 2.  0.  1.  2.]]\n",
      "[ 2.  1.  0.  1.  1.  2.  1.  0.  1.  0. -2. -3. -2. -5. -5. -3. -3. -3.\n",
      " -2. -2.  1.  0. -2. -2.  0.  1.  2.  0.  1.  2.  2.]\n"
     ]
    }
   ],
   "source": [
    "X_train, y_train = dataset[:, 0:4], dataset[:, 4]\n",
    "print(X_train)\n",
    "print(y_train)"
   ]
  },
  {
   "cell_type": "markdown",
   "id": "8a56ae42",
   "metadata": {},
   "source": [
    "## 第四步：把X变量和y变量交给分类模型进行训练，得到训练好的模型\n",
    "1. 为了确保模型完全学习了原曲的特征，我们定义：模型的准确度必须大于95%"
   ]
  },
  {
   "cell_type": "code",
   "execution_count": 12,
   "id": "5f4e6e31",
   "metadata": {},
   "outputs": [],
   "source": [
    "from sklearn.ensemble import GradientBoostingClassifier"
   ]
  },
  {
   "cell_type": "code",
   "execution_count": 13,
   "id": "6cd9c58c",
   "metadata": {
    "scrolled": true
   },
   "outputs": [
    {
     "data": {
      "text/plain": [
       "0.967741935483871"
      ]
     },
     "execution_count": 13,
     "metadata": {},
     "output_type": "execute_result"
    }
   ],
   "source": [
    "composer = GradientBoostingClassifier(n_estimators=100, learning_rate=1.0, max_depth=1, random_state=0).fit(X_train, y_train)\n",
    "\n",
    "composer.score(X_train, y_train)"
   ]
  },
  {
   "cell_type": "markdown",
   "id": "d41c178f",
   "metadata": {},
   "source": [
    "## 第五步：准备新曲子的初始曲调，对其进行数字化处理，得到数字队列\n",
    "1. 初始曲调由原曲前四个音符组成"
   ]
  },
  {
   "cell_type": "code",
   "execution_count": 14,
   "id": "943bd74e",
   "metadata": {},
   "outputs": [
    {
     "name": "stdout",
     "output_type": "stream",
     "text": [
      "[-2, 2, 2, 2]\n"
     ]
    }
   ],
   "source": [
    "init_music_notes = ['A-3', 'E-4', 'E-4', 'E-4']\n",
    "new_music_int = [ map_note_to_int[x] for x in init_music_notes ]\n",
    "print(new_music_int)"
   ]
  },
  {
   "cell_type": "markdown",
   "id": "1d7851a0",
   "metadata": {},
   "source": [
    "## 第六步：编写新的曲调\n",
    "1. 把初始曲调的数字队列输入训练好的模型，得到模型的输出，作为下一个音符，把新的音符加在曲调的最后。\n",
    "1. 再取新曲调的最后四个音符，用来预测下一个音符\n",
    "1. 重复以上步骤，得到所有音符的预测结果形成的数字队列即为机器人创造的新曲子\n"
   ]
  },
  {
   "cell_type": "code",
   "execution_count": 15,
   "id": "149cb038",
   "metadata": {},
   "outputs": [
    {
     "name": "stdout",
     "output_type": "stream",
     "text": [
      "[-2, 2, 2, 2, 2, 1, 0, 1, 0, -2, -3, -2, -5, -5, -3, -3, -3, -2, -2, 1, 0, -2, -2, 0, 1, 2, 0, 1, 2, 2, 1, 2, 1, 0, 1]\n"
     ]
    }
   ],
   "source": [
    "for idx in range(int_music_len-interval_len):\n",
    "    next_note_int = composer.predict([new_music_int[-4:]])\n",
    "    new_music_int.append(int(next_note_int))\n",
    "print(new_music_int)"
   ]
  },
  {
   "cell_type": "markdown",
   "id": "69fa26f7",
   "metadata": {},
   "source": [
    "## 第七步：新曲欣赏\n",
    "1. 把数字转换成音符，进行播放"
   ]
  },
  {
   "cell_type": "code",
   "execution_count": 16,
   "id": "58cd45e9",
   "metadata": {},
   "outputs": [
    {
     "data": {
      "text/plain": [
       "[('A-3', 1),\n",
       " ('E-4', 1),\n",
       " ('E-4', 1),\n",
       " ('E-4', 1),\n",
       " ('E-4', 0.5),\n",
       " ('D-4', 0.5),\n",
       " ('C-4', 1),\n",
       " ('D-4', 2),\n",
       " ('C-4', 1.5),\n",
       " ('A-3', 0.5),\n",
       " ('G-3', 1),\n",
       " ('A-3', 1),\n",
       " ('E-3', 0.5),\n",
       " ('E-3', 0.5),\n",
       " ('G-3', 0.5),\n",
       " ('G-3', 0.5),\n",
       " ('G-3', 2),\n",
       " ('A-3', 1),\n",
       " ('A-3', 0.5),\n",
       " ('D-4', 0.5),\n",
       " ('C-4', 1),\n",
       " ('A-3', 1),\n",
       " ('A-3', 1),\n",
       " ('C-4', 0.5),\n",
       " ('D-4', 0.5),\n",
       " ('E-4', 2),\n",
       " ('C-4', 1),\n",
       " ('D-4', 0.5),\n",
       " ('E-4', 0.5),\n",
       " ('E-4', 0.5),\n",
       " ('D-4', 0.5),\n",
       " ('E-4', 0.5),\n",
       " ('D-4', 0.5),\n",
       " ('C-4', 2),\n",
       " ('D-4', 2)]"
      ]
     },
     "execution_count": 16,
     "metadata": {},
     "output_type": "execute_result"
    }
   ],
   "source": [
    "new_music_notes = [ (map_int_to_note[x], r ) for x, (_, r) in zip(new_music_int, int_music) ]\n",
    "new_music_notes\n",
    "\n",
    "# 音符 + 节奏"
   ]
  },
  {
   "cell_type": "code",
   "execution_count": 19,
   "id": "e2d40333",
   "metadata": {},
   "outputs": [],
   "source": [
    "for i, r in new_music_notes:\n",
    "    n = Note(i)\n",
    "    n.channel = 1\n",
    "    n.velocity = 100\n",
    "    fluidsynth.play_Note(n)\n",
    "    time.sleep(r*rhythm_per_beat*2)"
   ]
  },
  {
   "cell_type": "markdown",
   "id": "68381943",
   "metadata": {},
   "source": [
    "## 结论\n",
    "\n",
    "### 方案体会\n",
    "\n",
    "我们已经做到了让机器人学习原始曲调，并且根据原始曲调创建新的、与原曲有着相似风格的曲调达到了我们制作此机器人的目的。\n",
    "\n",
    "### 问题及优化\n",
    "\n",
    "曲子的差异还比较明显。我们还要结合音乐的特性对机器人进行优化。"
   ]
  }
 ],
 "metadata": {
  "kernelspec": {
   "display_name": "Python 3 (ipykernel)",
   "language": "python",
   "name": "python3"
  },
  "language_info": {
   "codemirror_mode": {
    "name": "ipython",
    "version": 3
   },
   "file_extension": ".py",
   "mimetype": "text/x-python",
   "name": "python",
   "nbconvert_exporter": "python",
   "pygments_lexer": "ipython3",
   "version": "3.9.7"
  },
  "vscode": {
   "interpreter": {
    "hash": "4df2407d3ea46b3ec5a19765f900d8a5379b95ba1793b24750dcf229a4b9aae4"
   }
  }
 },
 "nbformat": 4,
 "nbformat_minor": 5
}
