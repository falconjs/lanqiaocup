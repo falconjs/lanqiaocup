{
 "cells": [
  {
   "cell_type": "markdown",
   "id": "9b1ee158",
   "metadata": {},
   "source": [
    "### Install mingus \n",
    "\n",
    "+ https://bspaans.github.io/python-mingus/index.html\n",
    "+ http://www.360doc.com/content/20/1207/16/71257933_949986136.shtml\n",
    "\n",
    "### Install FluidSynth to current workspace directory\n",
    "+ https://bspaans.github.io/python-mingus/doc/wiki/tutorialSetup.html\n",
    "+ https://github.com/FluidSynth/fluidsynth/releases/tag/v2.2.8\n",
    "+ https://ksvi.mff.cuni.cz/~dingle/2019/prog_1/python_music.html\n",
    "\n",
    "#### Installing FluidSynth on Windows\n",
    "1. Download and install QSynth (http://qsynth.sourceforge.net) which contains a patched version of FluidSynth which works on Windows.\n",
    "1. Add the QSynth directory to your PATH.\n",
    "1. In the QSynth directory, copy libfluidsynth-1.dll to libfluidsynth.dll\n",
    "\n",
    "### Install sf2 sound file\n",
    "\n",
    "+ https://musescore.org/en/handbook/3/soundfonts-and-sfz-files\n",
    "\n",
    "### How to play mingus with FluidSynth\n",
    "\n",
    "+ https://github.com/bspaans/python-mingus/blob/master/mingus_examples/improviser/improviser.py"
   ]
  },
  {
   "cell_type": "code",
   "execution_count": 1,
   "id": "6d271834",
   "metadata": {
    "scrolled": false
   },
   "outputs": [],
   "source": [
    "import os"
   ]
  },
  {
   "cell_type": "code",
   "execution_count": 2,
   "id": "ff5f7247",
   "metadata": {
    "scrolled": true
   },
   "outputs": [],
   "source": [
    "# Windows version\n",
    "# basepath = os.getcwd()\n",
    "# dllspath = os.path.join(basepath, 'fluidsynth', 'bin')\n",
    "# os.environ['PATH'] = dllspath + ';' + os.environ['PATH']\n"
   ]
  },
  {
   "cell_type": "code",
   "execution_count": 3,
   "id": "38321622",
   "metadata": {},
   "outputs": [],
   "source": [
    "import mingus.core.notes as notes\n",
    "import mingus.core.progressions as progressions\n",
    "from mingus.core import chords\n",
    "from mingus.containers import NoteContainer, Note\n",
    "from mingus.midi import fluidsynth"
   ]
  },
  {
   "cell_type": "code",
   "execution_count": 4,
   "id": "10d3e132",
   "metadata": {},
   "outputs": [
    {
     "name": "stderr",
     "output_type": "stream",
     "text": [
      "fluidsynth: warning: No preset found on channel 9 [bank=128 prog=0]\n"
     ]
    },
    {
     "data": {
      "text/plain": [
       "True"
      ]
     },
     "execution_count": 4,
     "metadata": {},
     "output_type": "execute_result"
    }
   ],
   "source": [
    "fluidsynth.init(\"U20PIANO.SF2\")\n",
    "# fluidsynth.init(\"YDP-GrandPiano-20160804.sf2\")"
   ]
  },
  {
   "cell_type": "code",
   "execution_count": 5,
   "id": "91fddeb0",
   "metadata": {},
   "outputs": [
    {
     "data": {
      "text/plain": [
       "True"
      ]
     },
     "execution_count": 5,
     "metadata": {},
     "output_type": "execute_result"
    }
   ],
   "source": [
    "notes.is_valid_note(\"C\")"
   ]
  },
  {
   "cell_type": "code",
   "execution_count": 6,
   "id": "524d542b",
   "metadata": {},
   "outputs": [
    {
     "data": {
      "text/plain": [
       "True"
      ]
     },
     "execution_count": 6,
     "metadata": {},
     "output_type": "execute_result"
    }
   ],
   "source": [
    "notes.is_valid_note(\"C#b#bb##b##bb\")"
   ]
  },
  {
   "cell_type": "code",
   "execution_count": 7,
   "id": "677af1e3",
   "metadata": {},
   "outputs": [
    {
     "data": {
      "text/plain": [
       "0"
      ]
     },
     "execution_count": 7,
     "metadata": {},
     "output_type": "execute_result"
    }
   ],
   "source": [
    "notes.note_to_int(\"C\")"
   ]
  },
  {
   "cell_type": "code",
   "execution_count": 8,
   "id": "99c89312",
   "metadata": {},
   "outputs": [
    {
     "data": {
      "text/plain": [
       "'C'"
      ]
     },
     "execution_count": 8,
     "metadata": {},
     "output_type": "execute_result"
    }
   ],
   "source": [
    "notes.int_to_note(0)"
   ]
  },
  {
   "cell_type": "code",
   "execution_count": 9,
   "id": "37dea9d4",
   "metadata": {},
   "outputs": [
    {
     "data": {
      "text/plain": [
       "[['C', 'E', 'G'], ['F', 'A', 'C'], ['G', 'B', 'D', 'F']]"
      ]
     },
     "execution_count": 9,
     "metadata": {},
     "output_type": "execute_result"
    }
   ],
   "source": [
    "[chords.I(\"C\"), chords.IV(\"C\"), chords.V7(\"C\")]"
   ]
  },
  {
   "cell_type": "code",
   "execution_count": 10,
   "id": "ad99d545",
   "metadata": {},
   "outputs": [
    {
     "data": {
      "text/plain": [
       "[['C', 'E', 'G'], ['F', 'A', 'C'], ['G', 'B', 'D', 'F']]"
      ]
     },
     "execution_count": 10,
     "metadata": {},
     "output_type": "execute_result"
    }
   ],
   "source": [
    "progression = [\"I\", \"IV\", \"V7\"]\n",
    "progressions.to_chords(progression, \"C\")"
   ]
  },
  {
   "cell_type": "code",
   "execution_count": 34,
   "id": "693ae9ec",
   "metadata": {},
   "outputs": [
    {
     "data": {
      "text/plain": [
       "True"
      ]
     },
     "execution_count": 34,
     "metadata": {},
     "output_type": "execute_result"
    }
   ],
   "source": [
    "n = Note(\"C-4\")\n",
    "fluidsynth.play_Note(n)"
   ]
  },
  {
   "cell_type": "code",
   "execution_count": 12,
   "id": "13e76417",
   "metadata": {},
   "outputs": [
    {
     "data": {
      "text/plain": [
       "True"
      ]
     },
     "execution_count": 12,
     "metadata": {},
     "output_type": "execute_result"
    }
   ],
   "source": [
    "fluidsynth.play_Note(Note(\"D-4\"))"
   ]
  },
  {
   "cell_type": "code",
   "execution_count": 13,
   "id": "8ca42e61",
   "metadata": {},
   "outputs": [
    {
     "data": {
      "text/plain": [
       "True"
      ]
     },
     "execution_count": 13,
     "metadata": {},
     "output_type": "execute_result"
    }
   ],
   "source": [
    "fluidsynth.play_Note(Note(\"E-4\"))"
   ]
  },
  {
   "cell_type": "code",
   "execution_count": 14,
   "id": "42fdc883",
   "metadata": {},
   "outputs": [
    {
     "data": {
      "text/plain": [
       "True"
      ]
     },
     "execution_count": 14,
     "metadata": {},
     "output_type": "execute_result"
    }
   ],
   "source": [
    "fluidsynth.play_Note(Note('B-3'))"
   ]
  },
  {
   "cell_type": "code",
   "execution_count": 15,
   "id": "44234b82",
   "metadata": {},
   "outputs": [
    {
     "data": {
      "text/plain": [
       "True"
      ]
     },
     "execution_count": 15,
     "metadata": {},
     "output_type": "execute_result"
    }
   ],
   "source": [
    "fluidsynth.play_NoteContainer(NoteContainer([\"C\", \"E\"]))\n",
    "fluidsynth.stop_NoteContainer(NoteContainer([\"C\", \"E\"]))"
   ]
  },
  {
   "cell_type": "code",
   "execution_count": 16,
   "id": "0424c105",
   "metadata": {},
   "outputs": [
    {
     "data": {
      "text/plain": [
       "True"
      ]
     },
     "execution_count": 16,
     "metadata": {},
     "output_type": "execute_result"
    }
   ],
   "source": [
    "fluidsynth.play_NoteContainer(NoteContainer([\"C\", \"E\"]))\n",
    "fluidsynth.play_NoteContainer(NoteContainer([\"D\", \"F\"]))"
   ]
  },
  {
   "cell_type": "code",
   "execution_count": 17,
   "id": "5adc67f1",
   "metadata": {},
   "outputs": [
    {
     "data": {
      "text/html": [
       "<div>\n",
       "<style scoped>\n",
       "    .dataframe tbody tr th:only-of-type {\n",
       "        vertical-align: middle;\n",
       "    }\n",
       "\n",
       "    .dataframe tbody tr th {\n",
       "        vertical-align: top;\n",
       "    }\n",
       "\n",
       "    .dataframe thead th {\n",
       "        text-align: right;\n",
       "    }\n",
       "</style>\n",
       "<table border=\"1\" class=\"dataframe\">\n",
       "  <thead>\n",
       "    <tr style=\"text-align: right;\">\n",
       "      <th></th>\n",
       "      <th>note</th>\n",
       "    </tr>\n",
       "    <tr>\n",
       "      <th>int</th>\n",
       "      <th></th>\n",
       "    </tr>\n",
       "  </thead>\n",
       "  <tbody>\n",
       "    <tr>\n",
       "      <th>1</th>\n",
       "      <td>C-4</td>\n",
       "    </tr>\n",
       "    <tr>\n",
       "      <th>2</th>\n",
       "      <td>D-4</td>\n",
       "    </tr>\n",
       "    <tr>\n",
       "      <th>3</th>\n",
       "      <td>E-4</td>\n",
       "    </tr>\n",
       "    <tr>\n",
       "      <th>4</th>\n",
       "      <td>F-4</td>\n",
       "    </tr>\n",
       "    <tr>\n",
       "      <th>5</th>\n",
       "      <td>G-4</td>\n",
       "    </tr>\n",
       "    <tr>\n",
       "      <th>6</th>\n",
       "      <td>A-4</td>\n",
       "    </tr>\n",
       "    <tr>\n",
       "      <th>7</th>\n",
       "      <td>B-4</td>\n",
       "    </tr>\n",
       "    <tr>\n",
       "      <th>8</th>\n",
       "      <td>C-5</td>\n",
       "    </tr>\n",
       "    <tr>\n",
       "      <th>9</th>\n",
       "      <td>D-5</td>\n",
       "    </tr>\n",
       "    <tr>\n",
       "      <th>10</th>\n",
       "      <td>E-5</td>\n",
       "    </tr>\n",
       "    <tr>\n",
       "      <th>11</th>\n",
       "      <td>F-5</td>\n",
       "    </tr>\n",
       "    <tr>\n",
       "      <th>12</th>\n",
       "      <td>G-5</td>\n",
       "    </tr>\n",
       "    <tr>\n",
       "      <th>13</th>\n",
       "      <td>A-5</td>\n",
       "    </tr>\n",
       "    <tr>\n",
       "      <th>14</th>\n",
       "      <td>B-5</td>\n",
       "    </tr>\n",
       "  </tbody>\n",
       "</table>\n",
       "</div>"
      ],
      "text/plain": [
       "    note\n",
       "int     \n",
       "1    C-4\n",
       "2    D-4\n",
       "3    E-4\n",
       "4    F-4\n",
       "5    G-4\n",
       "6    A-4\n",
       "7    B-4\n",
       "8    C-5\n",
       "9    D-5\n",
       "10   E-5\n",
       "11   F-5\n",
       "12   G-5\n",
       "13   A-5\n",
       "14   B-5"
      ]
     },
     "execution_count": 17,
     "metadata": {},
     "output_type": "execute_result"
    }
   ],
   "source": [
    "map_int_to_note = {1: 'C-4', 2: 'D-4', 3: 'E-4'}\n",
    "\n",
    "import pandas as pd\n",
    "\n",
    "pd.read_csv('int_note.csv', header=0, index_col=0)\n"
   ]
  },
  {
   "cell_type": "code",
   "execution_count": 18,
   "id": "efd47df8",
   "metadata": {},
   "outputs": [
    {
     "name": "stdout",
     "output_type": "stream",
     "text": [
      "C-4\n"
     ]
    }
   ],
   "source": [
    "map_int_to_note = pd.read_csv('int_note.csv', header=0, index_col=0).to_dict()\n",
    "print(map_int_to_note['note'][1])"
   ]
  },
  {
   "cell_type": "code",
   "execution_count": 37,
   "id": "0f9d8ad3",
   "metadata": {},
   "outputs": [],
   "source": [
    "import time\n",
    "\n",
    "music = [1,2,3,4,5,6,7,8,9,10,11,12,13,14]\n",
    "for i in music:\n",
    "    n = Note(map_int_to_note['note'][i])\n",
    "    n.channel = 1\n",
    "    n.velocity = 100\n",
    "    fluidsynth.play_Note(n)\n",
    "    time.sleep(1)"
   ]
  },
  {
   "cell_type": "code",
   "execution_count": 27,
   "id": "bd6e1815",
   "metadata": {},
   "outputs": [
    {
     "data": {
      "text/plain": [
       "True"
      ]
     },
     "execution_count": 27,
     "metadata": {},
     "output_type": "execute_result"
    }
   ],
   "source": [
    "n = Note(\"C-4\")\n",
    "n.channel = 1\n",
    "n.velocity = 100\n",
    "fluidsynth.play_Note(n)"
   ]
  },
  {
   "cell_type": "code",
   "execution_count": 28,
   "id": "ecacc953",
   "metadata": {},
   "outputs": [],
   "source": [
    "progression = [\"I\", \"bVdim7\"]\n",
    "key = \"C\"\n",
    "\n",
    "chords = progressions.to_chords(progression, key)\n"
   ]
  },
  {
   "cell_type": "code",
   "execution_count": null,
   "id": "049f9d3e",
   "metadata": {},
   "outputs": [],
   "source": []
  }
 ],
 "metadata": {
  "kernelspec": {
   "display_name": "Python 3 (ipykernel)",
   "language": "python",
   "name": "python3"
  },
  "language_info": {
   "codemirror_mode": {
    "name": "ipython",
    "version": 3
   },
   "file_extension": ".py",
   "mimetype": "text/x-python",
   "name": "python",
   "nbconvert_exporter": "python",
   "pygments_lexer": "ipython3",
   "version": "3.9.7"
  }
 },
 "nbformat": 4,
 "nbformat_minor": 5
}
