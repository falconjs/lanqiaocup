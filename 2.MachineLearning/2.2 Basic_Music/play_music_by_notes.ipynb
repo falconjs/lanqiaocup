{
 "cells": [
  {
   "cell_type": "markdown",
   "id": "9b1ee158",
   "metadata": {},
   "source": [
    "### Install mingus \n",
    "\n",
    "+ https://bspaans.github.io/python-mingus/index.html\n",
    "+ http://www.360doc.com/content/20/1207/16/71257933_949986136.shtml\n",
    "\n",
    "### Install FluidSynth to current workspace directory\n",
    "+ https://bspaans.github.io/python-mingus/doc/wiki/tutorialSetup.html\n",
    "+ https://github.com/FluidSynth/fluidsynth/releases/tag/v2.2.8\n",
    "+ https://ksvi.mff.cuni.cz/~dingle/2019/prog_1/python_music.html\n",
    "\n",
    "#### Installing FluidSynth on Windows\n",
    "1. Download and install QSynth (http://qsynth.sourceforge.net) which contains a patched version of FluidSynth which works on Windows.\n",
    "1. Add the QSynth directory to your PATH.\n",
    "1. In the QSynth directory, copy libfluidsynth-1.dll to libfluidsynth.dll\n",
    "\n",
    "### Install sf2 sound file\n",
    "\n",
    "+ https://musescore.org/en/handbook/3/soundfonts-and-sfz-files\n",
    "\n",
    "### How to play mingus with FluidSynth\n",
    "\n",
    "+ https://github.com/bspaans/python-mingus/blob/master/mingus_examples/improviser/improviser.py"
   ]
  },
  {
   "cell_type": "code",
   "execution_count": 1,
   "id": "6d271834",
   "metadata": {
    "scrolled": false
   },
   "outputs": [],
   "source": [
    "import os"
   ]
  },
  {
   "cell_type": "code",
   "execution_count": 2,
   "id": "ff5f7247",
   "metadata": {
    "scrolled": true
   },
   "outputs": [
    {
     "name": "stdout",
     "output_type": "stream",
     "text": [
      "C:\\0_Drive\\My Code\\lanqiaocup\\2.MachineLearning\\2.2 Basic_Music\\fluidsynth\\bin;C:\\Users\\jbai\\Anaconda3\\envs\\datascience_py39;C:\\Users\\jbai\\Anaconda3\\envs\\datascience_py39\\Library\\mingw-w64\\bin;C:\\Users\\jbai\\Anaconda3\\envs\\datascience_py39\\Library\\usr\\bin;C:\\Users\\jbai\\Anaconda3\\envs\\datascience_py39\\Library\\bin;C:\\Users\\jbai\\Anaconda3\\envs\\datascience_py39\\Scripts;C:\\Users\\jbai\\Anaconda3\\envs\\datascience_py39\\bin;C:\\Users\\jbai\\Anaconda3\\condabin;C:\\Program Files\\Zulu\\zulu-11\\bin;C:\\ProgramData\\Oracle\\Java\\javapath;C:\\Windows\\system32;C:\\Windows;C:\\Windows\\System32\\Wbem;C:\\Windows\\System32\\WindowsPowerShell\\v1.0;C:\\Windows\\System32\\OpenSSH;C:\\Program Files (x86)\\Pulse Secure\\VC142.CRT\\X64;C:\\Program Files (x86)\\Pulse Secure\\VC142.CRT\\X86;C:\\Program Files (x86)\\Box\\Box Edit;C:\\Program Files\\1E\\Client\\Extensibility\\NomadBranch;C:\\Program Files\\Amazon\\AWSCLIV2;C:\\Program Files\\Docker\\Docker\\resources\\bin;C:\\ProgramData\\DockerDesktop\\version-bin;C:\\Program Files\\Calibre2;C:\\Users\\jbai\\AppData\\Local\\Microsoft\\WindowsApps;C:\\Users\\jbai\\AppData\\Local\\Programs\\Microsoft VS Code\\bin;C:\\Users\\jbai\\AppData\\Local\\Programs\\Git\\cmd\n"
     ]
    }
   ],
   "source": [
    "basepath = os.getcwd()\n",
    "dllspath = os.path.join(basepath, 'fluidsynth', 'bin')\n",
    "\n",
    "os.environ['PATH'] = dllspath + ';' + os.environ['PATH']\n",
    "print(os.environ['PATH'])"
   ]
  },
  {
   "cell_type": "code",
   "execution_count": 3,
   "id": "38321622",
   "metadata": {},
   "outputs": [],
   "source": [
    "import mingus.core.notes as notes\n",
    "import mingus.core.progressions as progressions\n",
    "from mingus.core import chords\n",
    "from mingus.containers import NoteContainer, Note\n",
    "from mingus.midi import fluidsynth"
   ]
  },
  {
   "cell_type": "code",
   "execution_count": 4,
   "id": "10d3e132",
   "metadata": {},
   "outputs": [
    {
     "data": {
      "text/plain": [
       "True"
      ]
     },
     "execution_count": 4,
     "metadata": {},
     "output_type": "execute_result"
    }
   ],
   "source": [
    "fluidsynth.init(\"U20PIANO.SF2\")\n",
    "# fluidsynth.init(\"YDP-GrandPiano-20160804.sf2\")"
   ]
  },
  {
   "cell_type": "code",
   "execution_count": 5,
   "id": "91fddeb0",
   "metadata": {},
   "outputs": [
    {
     "data": {
      "text/plain": [
       "True"
      ]
     },
     "execution_count": 5,
     "metadata": {},
     "output_type": "execute_result"
    }
   ],
   "source": [
    "notes.is_valid_note(\"C\")"
   ]
  },
  {
   "cell_type": "code",
   "execution_count": 6,
   "id": "524d542b",
   "metadata": {},
   "outputs": [
    {
     "data": {
      "text/plain": [
       "True"
      ]
     },
     "execution_count": 6,
     "metadata": {},
     "output_type": "execute_result"
    }
   ],
   "source": [
    "notes.is_valid_note(\"C#b#bb##b##bb\")"
   ]
  },
  {
   "cell_type": "code",
   "execution_count": 7,
   "id": "677af1e3",
   "metadata": {},
   "outputs": [
    {
     "data": {
      "text/plain": [
       "0"
      ]
     },
     "execution_count": 7,
     "metadata": {},
     "output_type": "execute_result"
    }
   ],
   "source": [
    "notes.note_to_int(\"C\")"
   ]
  },
  {
   "cell_type": "code",
   "execution_count": 8,
   "id": "99c89312",
   "metadata": {},
   "outputs": [
    {
     "data": {
      "text/plain": [
       "'C'"
      ]
     },
     "execution_count": 8,
     "metadata": {},
     "output_type": "execute_result"
    }
   ],
   "source": [
    "notes.int_to_note(0)"
   ]
  },
  {
   "cell_type": "code",
   "execution_count": 9,
   "id": "37dea9d4",
   "metadata": {},
   "outputs": [
    {
     "data": {
      "text/plain": [
       "[['C', 'E', 'G'], ['F', 'A', 'C'], ['G', 'B', 'D', 'F']]"
      ]
     },
     "execution_count": 9,
     "metadata": {},
     "output_type": "execute_result"
    }
   ],
   "source": [
    "[chords.I(\"C\"), chords.IV(\"C\"), chords.V7(\"C\")]"
   ]
  },
  {
   "cell_type": "code",
   "execution_count": 10,
   "id": "ad99d545",
   "metadata": {},
   "outputs": [
    {
     "data": {
      "text/plain": [
       "[['C', 'E', 'G'], ['F', 'A', 'C'], ['G', 'B', 'D', 'F']]"
      ]
     },
     "execution_count": 10,
     "metadata": {},
     "output_type": "execute_result"
    }
   ],
   "source": [
    "progression = [\"I\", \"IV\", \"V7\"]\n",
    "progressions.to_chords(progression, \"C\")"
   ]
  },
  {
   "cell_type": "code",
   "execution_count": 39,
   "id": "693ae9ec",
   "metadata": {},
   "outputs": [
    {
     "data": {
      "text/plain": [
       "True"
      ]
     },
     "execution_count": 39,
     "metadata": {},
     "output_type": "execute_result"
    }
   ],
   "source": [
    "fluidsynth.play_Note(Note(\"C-5\"))"
   ]
  },
  {
   "cell_type": "code",
   "execution_count": 16,
   "id": "44234b82",
   "metadata": {},
   "outputs": [
    {
     "data": {
      "text/plain": [
       "True"
      ]
     },
     "execution_count": 16,
     "metadata": {},
     "output_type": "execute_result"
    }
   ],
   "source": [
    "fluidsynth.play_NoteContainer(NoteContainer([\"C\", \"E\"]))\n",
    "fluidsynth.stop_NoteContainer(NoteContainer([\"C\", \"E\"]))"
   ]
  },
  {
   "cell_type": "code",
   "execution_count": 32,
   "id": "0424c105",
   "metadata": {},
   "outputs": [
    {
     "data": {
      "text/plain": [
       "True"
      ]
     },
     "execution_count": 32,
     "metadata": {},
     "output_type": "execute_result"
    }
   ],
   "source": [
    "fluidsynth.play_NoteContainer(NoteContainer([\"C\", \"E\"]))\n",
    "fluidsynth.play_NoteContainer(NoteContainer([\"D\", \"F\"]))"
   ]
  },
  {
   "cell_type": "code",
   "execution_count": 26,
   "id": "0f9d8ad3",
   "metadata": {},
   "outputs": [
    {
     "data": {
      "text/plain": [
       "True"
      ]
     },
     "execution_count": 26,
     "metadata": {},
     "output_type": "execute_result"
    }
   ],
   "source": [
    "n = Note(\"C-5\")\n",
    "n.channel = 5\n",
    "n.velocity = 50\n",
    "fluidsynth.play_Note(n)"
   ]
  },
  {
   "cell_type": "code",
   "execution_count": 19,
   "id": "ecacc953",
   "metadata": {},
   "outputs": [],
   "source": [
    "progression = [\"I\", \"bVdim7\"]\n",
    "key = \"C\"\n",
    "\n",
    "chords = progressions.to_chords(progression, key)"
   ]
  },
  {
   "cell_type": "code",
   "execution_count": null,
   "id": "049f9d3e",
   "metadata": {},
   "outputs": [],
   "source": []
  }
 ],
 "metadata": {
  "kernelspec": {
   "display_name": "Python 3 (ipykernel)",
   "language": "python",
   "name": "python3"
  },
  "language_info": {
   "codemirror_mode": {
    "name": "ipython",
    "version": 3
   },
   "file_extension": ".py",
   "mimetype": "text/x-python",
   "name": "python",
   "nbconvert_exporter": "python",
   "pygments_lexer": "ipython3",
   "version": "3.9.7"
  }
 },
 "nbformat": 4,
 "nbformat_minor": 5
}
